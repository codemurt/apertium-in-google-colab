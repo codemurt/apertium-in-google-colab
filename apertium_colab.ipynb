{
  "nbformat": 4,
  "nbformat_minor": 0,
  "metadata": {
    "colab": {
      "provenance": []
    },
    "kernelspec": {
      "name": "python3",
      "display_name": "Python 3"
    },
    "language_info": {
      "name": "python"
    }
  },
  "cells": [
    {
      "cell_type": "code",
      "execution_count": 1,
      "metadata": {
        "colab": {
          "base_uri": "https://localhost:8080/"
        },
        "id": "MA0F-gqvQZ7X",
        "outputId": "5c638237-fbbe-482d-9e6a-30aa8dc3ee18"
      },
      "outputs": [
        {
          "output_type": "stream",
          "name": "stdout",
          "text": [
            "Collecting git+https://github.com/apertium/apertium-python.git\n",
            "  Cloning https://github.com/apertium/apertium-python.git to /tmp/pip-req-build-pvk_9ecs\n",
            "  Running command git clone --filter=blob:none --quiet https://github.com/apertium/apertium-python.git /tmp/pip-req-build-pvk_9ecs\n",
            "  Resolved https://github.com/apertium/apertium-python.git to commit 81b10e509f65fcf1c77a0c2080f398897d3629c2\n",
            "  Preparing metadata (setup.py) ... \u001b[?25l\u001b[?25hdone\n",
            "Collecting apertium-streamparser==5.0.2 (from apertium==0.2.4)\n",
            "  Using cached apertium_streamparser-5.0.2-py3-none-any.whl (5.7 kB)\n",
            "Building wheels for collected packages: apertium\n",
            "  Building wheel for apertium (setup.py) ... \u001b[?25l\u001b[?25hdone\n",
            "  Created wheel for apertium: filename=apertium-0.2.4-py3-none-any.whl size=27145 sha256=47b495158f2d67526b9ce27a95cdeaa102aa5a8b56fabc46f677dad0f4a117e4\n",
            "  Stored in directory: /tmp/pip-ephem-wheel-cache-0ag_zzzv/wheels/78/c5/ad/112e4101944b39a020d0cfc45ad16dd6ee0da468ddef4d2d3d\n",
            "Successfully built apertium\n",
            "Installing collected packages: apertium-streamparser, apertium\n",
            "Successfully installed apertium-0.2.4 apertium-streamparser-5.0.2\n"
          ]
        }
      ],
      "source": [
        "!pip install git+https://github.com/apertium/apertium-python.git"
      ]
    },
    {
      "cell_type": "code",
      "source": [
        "import apertium"
      ],
      "metadata": {
        "id": "QMjrwQEfQhMO"
      },
      "execution_count": 2,
      "outputs": []
    },
    {
      "cell_type": "code",
      "source": [
        "apertium.installer.install_module('uig')"
      ],
      "metadata": {
        "id": "hWueBEd-VOrI"
      },
      "execution_count": 3,
      "outputs": []
    },
    {
      "cell_type": "code",
      "source": [
        "apertium.analyzers"
      ],
      "metadata": {
        "colab": {
          "base_uri": "https://localhost:8080/"
        },
        "id": "G_WwXHKuVBzr",
        "outputId": "5ea27a1e-977c-4bec-8900-cc93a87f1ef6"
      },
      "execution_count": 4,
      "outputs": [
        {
          "output_type": "execute_result",
          "data": {
            "text/plain": [
              "{'eng': ('/usr/share/apertium', 'eng-morph'),\n",
              " 'uig': ('/usr/share/apertium', 'uig-morph')}"
            ]
          },
          "metadata": {},
          "execution_count": 4
        }
      ]
    },
    {
      "cell_type": "code",
      "source": [
        "g = apertium.Generator('uig')"
      ],
      "metadata": {
        "id": "34Xhbqn_R7LZ"
      },
      "execution_count": 5,
      "outputs": []
    },
    {
      "cell_type": "code",
      "source": [
        "word = 'ئىت'"
      ],
      "metadata": {
        "id": "_prNJyTScD3H"
      },
      "execution_count": 6,
      "outputs": []
    },
    {
      "cell_type": "code",
      "source": [
        "print(g.generate(f'^{word}<n><gen>$') == 'ئىتنىڭ')\n",
        "print(g.generate(f'^{word}<n><acc>$') == 'ئىتنى')\n",
        "print(g.generate(f'^{word}<n><dat>$') == 'ئىتقا')\n",
        "print(g.generate(f'^{word}<n><loc>$') == 'ئىتتا')\n",
        "print(g.generate(f'^{word}<n><abl>$') == 'ئىتتىن')"
      ],
      "metadata": {
        "colab": {
          "base_uri": "https://localhost:8080/"
        },
        "id": "pb-dI_b2Z6SY",
        "outputId": "25b7998f-2f4f-43d9-cc3b-90f14827e2d2"
      },
      "execution_count": 7,
      "outputs": [
        {
          "output_type": "stream",
          "name": "stderr",
          "text": [
            "WARNING:root:Calling subprocess lt-proc\n",
            "WARNING:root:Calling subprocess lt-proc\n",
            "WARNING:root:Calling subprocess lt-proc\n",
            "WARNING:root:Calling subprocess lt-proc\n",
            "WARNING:root:Calling subprocess lt-proc\n"
          ]
        },
        {
          "output_type": "stream",
          "name": "stdout",
          "text": [
            "True\n",
            "True\n",
            "True\n",
            "True\n",
            "True\n"
          ]
        }
      ]
    },
    {
      "cell_type": "code",
      "source": [],
      "metadata": {
        "id": "kEfCl4RCfF8-"
      },
      "execution_count": null,
      "outputs": []
    }
  ]
}